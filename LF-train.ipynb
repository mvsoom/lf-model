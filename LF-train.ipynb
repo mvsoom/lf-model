{
 "cells": [
  {
   "cell_type": "code",
   "execution_count": 1,
   "metadata": {},
   "outputs": [
    {
     "name": "stdout",
     "output_type": "stream",
     "text": [
      "/home/marnix/WRK/proj/ana/article/entropy/notebook\n",
      "Populating the interactive namespace from numpy and matplotlib\n"
     ]
    }
   ],
   "source": [
    "%cd ..\n",
    "%pylab qt\n",
    "from scipy.signal import *\n",
    "import LF\n",
    "from warnings import warn\n",
    "from IPython.display import Audio"
   ]
  },
  {
   "cell_type": "code",
   "execution_count": 2,
   "metadata": {},
   "outputs": [],
   "source": [
    "Pt = dict(Ee = 1.,\n",
    "          T0 = hstack([linspace(14., 8., 2), linspace(8, 10, 3)]),\n",
    "          Te = 6.5,\n",
    "          Tp = 5.,\n",
    "          Ta = linspace(.01, 1., 5))\n",
    "\n",
    "dt = 0.0625\n",
    "t, train, to, tp, te, Pvary = LF.LF_prime_train(dt, Pt, Tpad=1., full_output=True, diagnostic_plots=True)\n",
    "\n",
    "plot(t, train)\n",
    "plot(t, cumsum(train)*dt)\n",
    "for τ in to: axvline(τ, color=\"yellow\")\n",
    "for τ in tp: axvline(τ, color=\"red\")\n",
    "for τ in te: axvline(τ, color=\"green\")\n",
    "show()\n",
    "\n",
    "#Audio(train, rate=int(1000./dt))"
   ]
  },
  {
   "cell_type": "code",
   "execution_count": 3,
   "metadata": {},
   "outputs": [
    {
     "name": "stderr",
     "output_type": "stream",
     "text": [
      "/home/marnix/.local/lib/python3.6/site-packages/scipy/signal/filter_design.py:1619: BadCoefficients: Badly conditioned filter coefficients (numerator): the results may be meaningless\n",
      "  \"results may be meaningless\", BadCoefficients)\n"
     ]
    },
    {
     "data": {
      "text/html": [
       "\n",
       "                <audio  controls=\"controls\" >\n",
       "                    <source src=\"data:audio/wav;base64,UklGRo4GAABXQVZFZm10IBAAAAABAAEAgD4AAAB9AAACABAAZGF0YWoGAAAAAAAAAAAAAAAAAAAAAAAAAAAAAAAAAAAAAAAAAAAAAAAAAAAAAAAAAgAGABAAIQA8AGUAngDnAEMBrwEqArACPAPKA1QE1gRMBbIFCQZQBokGtwbeBgQHLAdbB5UH2wcvCJEIAAl6Cf0JhgoSC58LKgyzDDcNtg0uDqAOCg9sD8UPExBXEI8QuhDYEOkQ7xDqENwQxxCtEI8QbxBNECkQAhDVD6APYA8QD64ONg6jDfUMKQw+CzUKDQnIB2cG6wRXA6oB6P8O/h78F/r698T1d/MQ8ZDu9utA6W7mgeN34E/dCdqk1iHTfc+5y9bH08Oyv3a7Q7eks5SxT7IQt9TAHdDH5PD9BBrZNutRoGiZeP9/un2ecXRc7D9uHt36RtiSuTmhBJHlie6LWZaop+O9zNYp8PgHohwWLdE41j+YQs9BVz4FOYoyXSu2I5gb2hJMCcr+WvM+5/vaVc88xbe9urkMuiG/A8lJ1xbpKP33EdslLzeIRM5MX08eTG9DLjaTJRMTNgBz7gnf7dKzyo/GWMaZyarPxdcg4QXr3vQ6/tMGiA5JFRYb6h+4I2EmtSd+J4IllyGtG9kTXwq1/3j0aelZ3xTXUdGYzjjPONNY2hLkqO83/McIaRRGHrclTSraK3MqZCYqIF4YrA+8Bin+cfb27/Xqi+e65W/liebg6EvsovDA9X/7twE/CN8OWhVoG7ogAiX2J1gpASnnJhwj2R1zF1wQFgktAij8ffeI9IPzg/Ry9xb8FAL/CFkQpBdtHk4k/ChHLBkudy59LVYrOShjJBEgfBvYFlQSGA5ECvgGTQRYAiwB1ABVAakCwAR6B6wKHQ6LEa4UPRfxGJMZ9hgEF74TOQ+iCTgDR/wh9RjueueI4XLcVdg71RnT0tE90SfRV9GX0bDRddHA0HTPf83WynjHc8P8voC6rbZetIS0AriFv1/Lb9sS7yoFMhxhMttF4lQKXmNgmVv5T3Q+gij6D+n2VN8Ny4a7s7H7rTiwyberw57SSeNg9MEEixMmIEQq2DEDNwM6HzuWOpQ4LjVpMD8qsCLPGc8PDQUR+obvNebs3mraSNnm21jiXuxn+ZoI5xgfKRA4okTxTWJTrVTkUW1L80FSNocpjBxMEIoF2PyN9sfyc/FX8hr1WPmp/qwEEAuOEe8XAx6dI5EorCy0L2wxmjEGMI0sIyfbH+sWrwyhAVf2cOuP4UXZCtMqz8TNws7e0aTWg9zU4uvoKO4D8hL0FvT58c3tx+c34H7XBc40xGu6ArFTqM2g+Zpyl+KW5pn6oGGsCbyFzwHmUP76FmAu3ELrUlRdSGF5XiRVDEZrMs8b/QO/7MDXasbIuXeypLAPtB+89seP1tTmvfdbCOsX1yW1MUU7ZUIGRypJ2EgeRhJB1jmgMMElpxnlDCYAMPTO6cbhx9xT27Ld6eOx7Xv6ewm1GRIqdjnaRmFRZliQW8xaVValTmpEcTibK8AeqBL5BzD/nPhk9Ify4/I/9VD5wv4/BW0M9RN+G7AiNim2Lt8yYTX6NXo0xjDjKvQiQRkwDkYCG/ZN6n3fONbzzv7Jfsdpx4fJec3A0sbY7t6e5Evpgezw7WXt1upY5hzga9iczw7GJrxVsh6pG6HzmlaX5pYmmmWhray3u+fNU+LN9/0MgiAHMW093kTnRoFDDztYLm8eoAxK+sPoQdm6zNvD/r4sviLBZsdS0CvbL+eo8/X/jAsGFg8fbCb0K4wvJjG9MFcuCir/I3QcvRNMCqUAX/cV72Po0+PR4aXiYebo7OP1zwACDbkZJyaGMSc7gEIyRxZJNkjNREA/EjjYLywnoh7BFvQPjwrFBrEEUgSSBUwITwxeETsXnx1DJN0qITHENno7AT8cQZ1BaEB3Pdw4xDJ1K0kjrRoXEv4J0QLw/KD4DPY89Rj2a/jj+x0ArAQdCQcNDBDhEVMSSBG7DsIKgQUv/wj4UfBP6ETgb9gH0TzKNcQRv+W6u7eUtWa0GrSRtJ61DbeluDi6q7sDvWS+D8BUwoXF6smqz8jWFt856KrxzPrxAnkJ3g3FDwwP0AtnBl//ZPc876fnUuHH3FraLdoo3APgVOWX60Hyz/jU/v0DGggaCwcNAw43DtEN+QzMC1oKpAinBlgEsQG4/n37Ivja9Obxie8I7pvtZ+538Lnz+/f0/EECegcxDAUQphLkE6kT\" type=\"audio/wav\" />\n",
       "                    Your browser does not support the audio element.\n",
       "                </audio>\n",
       "              "
      ],
      "text/plain": [
       "<IPython.lib.display.Audio object>"
      ]
     },
     "execution_count": 3,
     "metadata": {},
     "output_type": "execute_result"
    }
   ],
   "source": [
    "def conj_pair(p): return [p, conjugate(p)]\n",
    "\n",
    "zeros = array([]) # kHz\n",
    "poles = array(conj_pair(-.15 + 3.8j) + conj_pair(-.25 + 6.j))\n",
    "gain = 1.\n",
    "\n",
    "sys = lti(zeros, poles, gain)\n",
    "dsys = cont2discrete((zeros, poles, gain), dt = dt) # changes poles and gain, adds zeros\n",
    "\n",
    "# Continuous\n",
    "tout, yout, _ = lsim(sys, train, T=t)\n",
    "Audio(yout, rate=int(1000./dt))"
   ]
  },
  {
   "cell_type": "code",
   "execution_count": 4,
   "metadata": {},
   "outputs": [
    {
     "data": {
      "text/html": [
       "\n",
       "                <audio  controls=\"controls\" >\n",
       "                    <source src=\"data:audio/wav;base64,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\" type=\"audio/wav\" />\n",
       "                    Your browser does not support the audio element.\n",
       "                </audio>\n",
       "              "
      ],
      "text/plain": [
       "<IPython.lib.display.Audio object>"
      ]
     },
     "execution_count": 4,
     "metadata": {},
     "output_type": "execute_result"
    }
   ],
   "source": [
    "# Discrete\n",
    "tout, yout = dlsim(dsys, train)\n",
    "Audio(yout[:,0], rate=int(1000./dt))"
   ]
  },
  {
   "cell_type": "code",
   "execution_count": 5,
   "metadata": {},
   "outputs": [
    {
     "data": {
      "text/html": [
       "\n",
       "                <audio  controls=\"controls\" >\n",
       "                    <source src=\"data:audio/wav;base64,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\" type=\"audio/wav\" />\n",
       "                    Your browser does not support the audio element.\n",
       "                </audio>\n",
       "              "
      ],
      "text/plain": [
       "<IPython.lib.display.Audio object>"
      ]
     },
     "execution_count": 5,
     "metadata": {},
     "output_type": "execute_result"
    }
   ],
   "source": [
    "# Discrete convolution\n",
    "tout, yout = dimpulse(dsys, n=300)\n",
    "yout = yout[0][:,0]\n",
    "outp = convolve(train, yout)\n",
    "Audio(outp, rate=int(1000./dt))"
   ]
  },
  {
   "cell_type": "code",
   "execution_count": 6,
   "metadata": {},
   "outputs": [
    {
     "data": {
      "text/plain": [
       "[<matplotlib.lines.Line2D at 0x7f58ed0b7668>]"
      ]
     },
     "execution_count": 6,
     "metadata": {},
     "output_type": "execute_result"
    }
   ],
   "source": [
    "%matplotlib qt\n",
    "plot(outp)"
   ]
  },
  {
   "cell_type": "code",
   "execution_count": null,
   "metadata": {},
   "outputs": [],
   "source": []
  }
 ],
 "metadata": {
  "kernelspec": {
   "display_name": "Python 3",
   "language": "python",
   "name": "python3"
  },
  "language_info": {
   "codemirror_mode": {
    "name": "ipython",
    "version": 3
   },
   "file_extension": ".py",
   "mimetype": "text/x-python",
   "name": "python",
   "nbconvert_exporter": "python",
   "pygments_lexer": "ipython3",
   "version": "3.6.8"
  }
 },
 "nbformat": 4,
 "nbformat_minor": 4
}
